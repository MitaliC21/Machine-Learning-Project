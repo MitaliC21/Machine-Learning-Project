{
 "cells": [
  {
   "cell_type": "markdown",
   "metadata": {},
   "source": [
    "# Importing the Data Set"
   ]
  },
  {
   "cell_type": "code",
   "execution_count": 1,
   "metadata": {
    "scrolled": true
   },
   "outputs": [
    {
     "name": "stdout",
     "output_type": "stream",
     "text": [
      "                                                Review  Liked\n",
      "0                             Wow... Loved this place.      1\n",
      "1                                   Crust is not good.      0\n",
      "2            Not tasty and the texture was just nasty.      0\n",
      "3    Stopped by during the late May bank holiday of...      1\n",
      "4    The selection on the menu was great and so wer...      1\n",
      "..                                                 ...    ...\n",
      "995  I think food should have flavor and texture an...      0\n",
      "996                           Appetite instantly gone.      0\n",
      "997  Overall I was not impressed and would not go b...      0\n",
      "998  The whole experience was underwhelming, and I ...      0\n",
      "999  Then, as if I hadn't wasted enough of my life ...      0\n",
      "\n",
      "[1000 rows x 2 columns]\n"
     ]
    }
   ],
   "source": [
    "#Importing Libraries\n",
    "import numpy as np\n",
    "import pandas as pd\n",
    "\n",
    "df = pd.read_csv('Restaurant_Reviews.tsv',delimiter='\\t', quoting=3)\n",
    "print(df)"
   ]
  },
  {
   "cell_type": "markdown",
   "metadata": {},
   "source": [
    "# Creating Bag of Words model"
   ]
  },
  {
   "cell_type": "code",
   "execution_count": 2,
   "metadata": {},
   "outputs": [
    {
     "name": "stderr",
     "output_type": "stream",
     "text": [
      "[nltk_data] Downloading package stopwords to\n",
      "[nltk_data]     C:\\Users\\Sharath\\AppData\\Roaming\\nltk_data...\n",
      "[nltk_data]   Package stopwords is already up-to-date!\n"
     ]
    }
   ],
   "source": [
    "#Importing the libraries\n",
    "import re\n",
    "import nltk\n",
    "from nltk.corpus import stopwords\n",
    "from nltk.stem.porter import PorterStemmer\n",
    "from sklearn.feature_extraction.text import CountVectorizer\n",
    "from sklearn.metrics import classification_report\n",
    "nltk.download('stopwords')\n",
    "\n",
    "#Creating Corpus\n",
    "corpus = [] # to collect all the refined reviews\n",
    "remove_set = ['not', 'is','but', 'no', 'didn', 'doesn', 'won', 'she', 'wasn'] #to remove the words from stopwords\n",
    "\n",
    "#Getting all stop words\n",
    "all_stopwords = stopwords.words('english')\n",
    "\n",
    "#Removing required words from stopwords\n",
    "for necessary_word in remove_set:\n",
    "    all_stopwords.remove(necessary_word)\n",
    "\n",
    "for i in range(0,1000):\n",
    "    review = re.sub('[^a-zA-Z]', ' ',df['Review'][i]) # substituing all the none characters by space\n",
    "    review = review.lower() # converting all the revies in to lower case\n",
    "    review = review.split() # converting the senetence into a list of words\n",
    "    #Stemming variables\n",
    "    ps = PorterStemmer()\n",
    "    review = [ps.stem(word) for word in review if not word in set(all_stopwords)]\n",
    "    # to convert the list of words into sentence we use the join function\n",
    "    review = ' '.join(review)\n",
    "    corpus.append(review)\n",
    "\n",
    "# Creating the bag of words model\n",
    "cv = CountVectorizer(max_features = None)\n",
    "x = cv.fit_transform(corpus).toarray()\n",
    "y = df.iloc[:,-1].values"
   ]
  },
  {
   "cell_type": "markdown",
   "metadata": {},
   "source": [
    "# SVM Model"
   ]
  },
  {
   "cell_type": "code",
   "execution_count": 3,
   "metadata": {},
   "outputs": [
    {
     "name": "stdout",
     "output_type": "stream",
     "text": [
      "Accuracy: 0.9\n",
      "Classification Report\n",
      "              precision    recall  f1-score   support\n",
      "\n",
      "           0       0.96      0.86      0.91        28\n",
      "           1       0.84      0.95      0.89        22\n",
      "\n",
      "    accuracy                           0.90        50\n",
      "   macro avg       0.90      0.91      0.90        50\n",
      "weighted avg       0.91      0.90      0.90        50\n",
      "\n"
     ]
    },
    {
     "data": {
      "image/png": "[encoded data removed]",
      "text/plain": [
       "<Figure size 432x288 with 2 Axes>"
      ]
     },
     "metadata": {
      "needs_background": "light"
     },
     "output_type": "display_data"
    }
   ],
   "source": [
    "# splitting the x and y into training and test data\n",
    "from sklearn.model_selection import train_test_split\n",
    "x_tr1,x_te1,y_tr1,y_te1 = train_test_split(x,y,test_size = 0.05, random_state = 0)\n",
    "\n",
    "from sklearn.svm import SVC\n",
    "classifier1 = SVC(kernel='linear', random_state=0)\n",
    "classifier1.fit(x_tr1,y_tr1)\n",
    "\n",
    "# prediciting the classification for the test data\n",
    "y_pred1 = classifier1.predict(x_te1)\n",
    "from sklearn.metrics import accuracy_score,confusion_matrix,plot_confusion_matrix\n",
    "acc1 = accuracy_score(y_te1,y_pred1)\n",
    "print(\"Accuracy:\",acc1)\n",
    "\n",
    "#Confusion Matrix\n",
    "plot_confusion_matrix(estimator=classifier1, X=x_te1, y_true=y_te1, cmap='Blues')\n",
    "\n",
    "#Classification Report\n",
    "print(\"Classification Report\")\n",
    "print(classification_report(y_te1,y_pred1))"
   ]
  },
  {
   "cell_type": "markdown",
   "metadata": {},
   "source": [
    "# SVM Model with PCA"
   ]
  },
  {
   "cell_type": "code",
   "execution_count": 4,
   "metadata": {},
   "outputs": [],
   "source": [
    "#Implementing PCA\n",
    "from sklearn.decomposition import PCA\n",
    "pca = PCA(n_components=600)\n",
    "x_pca = pca.fit_transform(x)\n",
    "np.set_printoptions(suppress=True)"
   ]
  },
  {
   "cell_type": "code",
   "execution_count": 5,
   "metadata": {},
   "outputs": [
    {
     "name": "stdout",
     "output_type": "stream",
     "text": [
      "Accuracy: 0.92\n",
      "Classification Report\n",
      "              precision    recall  f1-score   support\n",
      "\n",
      "           0       0.93      0.93      0.93        28\n",
      "           1       0.91      0.91      0.91        22\n",
      "\n",
      "    accuracy                           0.92        50\n",
      "   macro avg       0.92      0.92      0.92        50\n",
      "weighted avg       0.92      0.92      0.92        50\n",
      "\n"
     ]
    },
    {
     "data": {
      "image/png": "[encoded data removed]",
      "text/plain": [
       "<Figure size 432x288 with 2 Axes>"
      ]
     },
     "metadata": {
      "needs_background": "light"
     },
     "output_type": "display_data"
    }
   ],
   "source": [
    "#splitting the data into training set and test set\n",
    "from sklearn.model_selection import train_test_split\n",
    "x_tr2,x_te2,y_tr2,y_te2 = train_test_split(x_pca,y,test_size=0.05,random_state=0)\n",
    "\n",
    "#creating the svm model\n",
    "from sklearn.svm import SVC\n",
    "classifier2 = SVC(kernel='linear',random_state=0)\n",
    "\n",
    "#fitting the model\n",
    "classifier2.fit(x_tr2,y_tr2)\n",
    "\n",
    "#predicting the output\n",
    "y_pred2 = classifier2.predict(x_te2)\n",
    "\n",
    "#calculating the accuracy score and confusion matrix\n",
    "from sklearn.metrics import accuracy_score,confusion_matrix,plot_confusion_matrix\n",
    "acc2 = accuracy_score(y_te2,y_pred2)\n",
    "print(\"Accuracy:\",acc2)\n",
    "\n",
    "#Confusion Matrix\n",
    "plot_confusion_matrix(estimator=classifier2, X=x_te2, y_true=y_te2, cmap='Blues')\n",
    "\n",
    "#Classification Report\n",
    "print(\"Classification Report\")\n",
    "print(classification_report(y_te2,y_pred2))"
   ]
  },
  {
   "cell_type": "markdown",
   "metadata": {},
   "source": [
    "# KNN"
   ]
  },
  {
   "cell_type": "code",
   "execution_count": 6,
   "metadata": {},
   "outputs": [
    {
     "name": "stdout",
     "output_type": "stream",
     "text": [
      "Accuracy: 0.9\n",
      "Classification Report\n",
      "              precision    recall  f1-score   support\n",
      "\n",
      "           0       0.82      0.88      0.85        16\n",
      "           1       0.94      0.91      0.93        34\n",
      "\n",
      "    accuracy                           0.90        50\n",
      "   macro avg       0.88      0.89      0.89        50\n",
      "weighted avg       0.90      0.90      0.90        50\n",
      "\n"
     ]
    },
    {
     "data": {
      "image/png": "[encoded data removed]",
      "text/plain": [
       "<Figure size 432x288 with 2 Axes>"
      ]
     },
     "metadata": {
      "needs_background": "light"
     },
     "output_type": "display_data"
    }
   ],
   "source": [
    "# Feature scalling on X\n",
    "from sklearn.preprocessing import StandardScaler\n",
    "sc = StandardScaler()\n",
    "x_knn = sc.fit_transform(x)\n",
    "\n",
    "#TFID on X\n",
    "from sklearn.feature_extraction.text import TfidfTransformer\n",
    "tfidf_transformer = TfidfTransformer()\n",
    "x_knn = tfidf_transformer.fit_transform(x_knn)\n",
    "\n",
    "# splitiing the x and y into training and test set\n",
    "from sklearn.model_selection import train_test_split\n",
    "x_tr3,x_te3,y_tr3,y_te3 = train_test_split(x_knn,y,test_size = 0.05,random_state = 3)\n",
    "\n",
    "# create and train the KNN model\n",
    "from sklearn.neighbors import KNeighborsClassifier\n",
    "classifier3 = KNeighborsClassifier(n_neighbors=7,metric='minkowski',p=2)\n",
    "classifier3.fit(x_tr3,y_tr3)\n",
    "\n",
    "# predicting the values\n",
    "y_pred3 = classifier3.predict(x_te3)\n",
    "\n",
    "# accuracy score and the confusuion matrix\n",
    "from sklearn.metrics import accuracy_score, plot_confusion_matrix\n",
    "print(\"Accuracy:\", accuracy_score(y_te3,y_pred3))\n",
    "plot_confusion_matrix(estimator=classifier3, X=x_te3, y_true=y_te3, cmap='Blues')\n",
    "\n",
    "#Classification Report\n",
    "print(\"Classification Report\")\n",
    "print(classification_report(y_te3,y_pred3))"
   ]
  },
  {
   "cell_type": "code",
   "execution_count": null,
   "metadata": {},
   "outputs": [],
   "source": []
  }
 ],
 "metadata": {
  "kernelspec": {
   "display_name": "Python 3",
   "language": "python",
   "name": "python3"
  },
  "language_info": {
   "codemirror_mode": {
    "name": "ipython",
    "version": 3
   },
   "file_extension": ".py",
   "mimetype": "text/x-python",
   "name": "python",
   "nbconvert_exporter": "python",
   "pygments_lexer": "ipython3",
   "version": "3.7.0"
  }
 },
 "nbformat": 4,
 "nbformat_minor": 4
}
